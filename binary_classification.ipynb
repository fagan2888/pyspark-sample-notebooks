{
  "nbformat": 4,
  "nbformat_minor": 0,
  "metadata": {
    "colab": {
      "name": "binary_classification.ipynb",
      "version": "0.3.2",
      "provenance": [],
      "collapsed_sections": [],
      "include_colab_link": true
    },
    "kernelspec": {
      "name": "python3",
      "display_name": "Python 3"
    },
    "accelerator": "GPU"
  },
  "cells": [
    {
      "cell_type": "markdown",
      "metadata": {
        "id": "view-in-github",
        "colab_type": "text"
      },
      "source": [
        "[View in Colaboratory](https://colab.research.google.com/github/soltaniehha/pyspark-sample-notebooks/blob/master/binary_classification.ipynb)"
      ]
    },
    {
      "metadata": {
        "id": "4Zw8h0t0Tj_9",
        "colab_type": "text"
      },
      "cell_type": "markdown",
      "source": [
        "# Image Classification with Spark Deep Learning\n",
        "Installation "
      ]
    },
    {
      "metadata": {
        "id": "8R3us6_H8bCo",
        "colab_type": "code",
        "colab": {}
      },
      "cell_type": "code",
      "source": [
        ""
      ],
      "execution_count": 0,
      "outputs": []
    }
  ]
}